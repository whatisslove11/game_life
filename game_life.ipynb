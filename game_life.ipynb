{
 "cells": [
  {
   "cell_type": "code",
   "execution_count": 1,
   "id": "b608aa80",
   "metadata": {},
   "outputs": [
    {
     "name": "stdout",
     "output_type": "stream",
     "text": [
      "[[0 0 0 1 0 0 0 0 1 0 1 0 0 0 1 0 0 0 0 0 0 1 0 0 0]\n",
      " [1 0 0 1 0 0 0 0 0 2 2 0 0 0 0 1 1 0 0 0 0 0 0 0 1]\n",
      " [0 0 0 0 0 0 1 0 0 2 2 1 0 1 0 0 0 0 0 0 0 0 3 3 0]\n",
      " [0 0 0 1 0 0 0 0 0 0 0 0 0 0 0 0 0 0 0 1 0 3 0 3 0]\n",
      " [0 0 0 0 0 0 0 0 0 0 0 0 0 0 1 0 0 0 0 1 1 3 3 0 0]\n",
      " [0 0 0 0 1 0 0 0 0 0 0 0 0 0 0 0 0 1 0 0 0 0 1 0 0]\n",
      " [0 2 2 0 0 0 0 1 0 0 0 1 0 0 0 0 0 0 0 0 0 0 0 0 1]\n",
      " [0 2 2 0 1 0 0 0 1 0 0 0 0 0 0 0 1 0 0 0 0 0 0 0 0]\n",
      " [0 1 0 0 3 3 1 0 0 0 1 0 0 0 0 0 0 0 0 0 0 0 0 0 0]\n",
      " [0 0 0 0 3 3 0 1 0 1 0 0 1 1 0 0 0 0 0 1 0 0 1 1 0]\n",
      " [0 0 0 0 0 0 1 0 0 0 1 0 0 1 0 0 0 0 0 0 0 0 0 0 1]\n",
      " [0 0 0 0 0 0 0 0 1 1 0 0 0 0 0 0 0 0 1 0 0 0 1 0 0]\n",
      " [0 3 3 1 0 0 1 1 0 1 0 0 0 0 0 0 0 1 1 0 0 0 0 0 0]\n",
      " [0 3 0 0 3 0 0 0 0 0 0 0 1 3 3 0 0 0 0 0 0 0 0 0 0]\n",
      " [0 0 0 3 3 0 0 1 1 0 0 0 0 3 3 0 0 1 0 0 0 0 0 0 0]\n",
      " [0 0 0 0 0 0 0 0 0 0 0 0 0 0 0 0 0 0 0 0 1 0 0 0 1]\n",
      " [0 0 0 0 0 0 0 0 1 0 0 0 0 1 0 0 0 0 0 0 0 0 0 0 0]\n",
      " [0 0 0 0 0 1 0 0 0 0 0 0 0 0 0 0 0 0 0 0 0 0 0 0 1]\n",
      " [2 1 0 1 0 1 1 0 0 0 0 0 0 0 1 1 0 0 0 1 0 0 1 1 0]\n",
      " [2 2 0 0 0 0 0 0 0 1 0 1 0 0 1 1 0 0 0 0 0 0 0 1 0]\n",
      " [0 0 0 1 0 1 1 0 0 0 0 0 0 0 0 0 0 0 0 1 0 0 0 0 0]\n",
      " [0 3 3 0 0 0 1 0 1 0 1 0 0 1 0 0 0 0 0 3 3 0 0 0 0]\n",
      " [3 0 0 3 1 0 0 1 3 3 0 0 0 0 0 0 0 0 0 3 3 0 0 0 0]\n",
      " [3 0 3 0 0 0 0 0 3 3 0 0 0 0 0 0 0 0 0 0 0 0 1 0 0]\n",
      " [3 3 1 0 1 1 0 0 0 1 0 0 0 0 0 0 0 0 1 1 0 0 0 1 0]]\n",
      "Life in ocean was died!\n"
     ]
    }
   ],
   "source": [
    "import numpy as np\n",
    "from IPython.display import clear_output\n",
    "from time import sleep\n",
    "\n",
    "def create(chance, N):\n",
    "    ocean = np.random.choice(a = [0,1,2,3], size = (N,N), p = list(chance))\n",
    "    return ocean\n",
    "\n",
    "def get_neigh(x, y, ocean, N):\n",
    "    fish_count = 0\n",
    "    shrimp_count = 0\n",
    "    for i in range(-1,2):\n",
    "        for j in range(-1,2):\n",
    "            k = x+i\n",
    "            l = y+j\n",
    "            if k < 0 or l < 0 or k >= N or l >= N or (k==x and l == y):\n",
    "                continue\n",
    "            if ocean[k,l] == 2:\n",
    "                fish_count+=1\n",
    "            if ocean[k,l] == 3:\n",
    "                shrimp_count+=1\n",
    "    return [fish_count, shrimp_count]\n",
    "    \n",
    "def next_step(ocean, prot_ocean, N):\n",
    "    for i in range(N):\n",
    "        for j in range(N):\n",
    "            a = get_neigh(i,j,prot_ocean,N)\n",
    "            if prot_ocean[i, j] == 0:\n",
    "                if a[0] == 3:\n",
    "                    ocean[i, j] = 2\n",
    "                elif a[1] == 3:\n",
    "                    ocean[i, j] = 3\n",
    "            if prot_ocean[i, j] == 2:\n",
    "                if a[0] > 3 or a[0] < 2:\n",
    "                    ocean[i, j] = 0\n",
    "            if prot_ocean[i, j] == 3:\n",
    "                if a[1] > 3 or a[1] < 2:\n",
    "                    ocean[i, j] = 0\n",
    "    return ocean\n",
    "            \n",
    "                       \n",
    "if __name__ == '__main__':\n",
    "    chance = (0.21, 0.15, 0.32, 0.32)\n",
    "    N = 25\n",
    "    ocean = create(chance, N)\n",
    "    print(ocean, end = '\\n')\n",
    "    \n",
    "    while True:\n",
    "        sleep(2)\n",
    "        clear_output(wait=True)\n",
    "        prot_ocean = np.copy(ocean)\n",
    "        print(next_step(ocean, prot_ocean, N), end = '\\n')\n",
    "        if np.array_equal(prot_ocean, ocean):\n",
    "            print(\"Life in ocean was died!\")\n",
    "            break"
   ]
  },
  {
   "cell_type": "code",
   "execution_count": null,
   "id": "89b127fc",
   "metadata": {},
   "outputs": [],
   "source": []
  },
  {
   "cell_type": "code",
   "execution_count": null,
   "id": "8ec97bdb",
   "metadata": {},
   "outputs": [],
   "source": []
  }
 ],
 "metadata": {
  "kernelspec": {
   "display_name": "Python 3",
   "language": "python",
   "name": "python3"
  },
  "language_info": {
   "codemirror_mode": {
    "name": "ipython",
    "version": 3
   },
   "file_extension": ".py",
   "mimetype": "text/x-python",
   "name": "python",
   "nbconvert_exporter": "python",
   "pygments_lexer": "ipython3",
   "version": "3.8.8"
  }
 },
 "nbformat": 4,
 "nbformat_minor": 5
}
